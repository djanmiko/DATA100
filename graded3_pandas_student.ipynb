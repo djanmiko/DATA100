{
 "cells": [
  {
   "cell_type": "markdown",
   "id": "174e376c",
   "metadata": {
    "id": "174e376c"
   },
   "source": [
    "*Author/s:*\n",
    "**Djan Miko E. Duero**\n",
    "\n",
    "Course code and section: DATA100 S17\n",
    "\n",
    "Student ID: 12271721\n",
    "\n",
    "College: School of Economics\n",
    "\n",
    "**Homework**: Zomato Exercise"
   ]
  },
  {
   "cell_type": "markdown",
   "id": "8bb34a64-06bd-492a-8278-ffb8261fab90",
   "metadata": {
    "id": "174e376c"
   },
   "source": [
    "# Zomato Exercise"
   ]
  },
  {
   "cell_type": "markdown",
   "id": "2d84fdf3",
   "metadata": {
    "id": "2d84fdf3"
   },
   "source": [
    "Zomato is a restaurant aggregator website. The platform provides information, menus and user-reviews of restaurants as well as food delivery options from partner restaurants in select cities. You have been provided 3 datasets:\n",
    "\n",
    "- zomato.csv contains restaurant information like average_cost_for_two, cuisines\n",
    "- location.csv contains location of the restaurants like address, city, locality & etc\n",
    "- ratings.csv contains aggregate rating for each restaurant\n",
    "\n",
    "The different files are connected using the `id` columns which can be found in the different files. The id column is a unique identifier to represent a restaurant. You can use this to **merge** the different files."
   ]
  },
  {
   "cell_type": "code",
   "execution_count": 2,
   "id": "5337de5f",
   "metadata": {
    "id": "5337de5f"
   },
   "outputs": [],
   "source": [
    "import pandas as pd\n",
    "import numpy as np"
   ]
  },
  {
   "cell_type": "markdown",
   "id": "77605fbc",
   "metadata": {
    "id": "77605fbc"
   },
   "source": [
    "1. Merge the zomato, location & ratings file into a signle dataframe and store it to the `merged_df` variable **(3pts)**"
   ]
  },
  {
   "cell_type": "code",
   "execution_count": 17,
   "id": "8b50ce26-60db-4826-8fe6-0fc579e2949e",
   "metadata": {
    "id": "ddbd0bb1"
   },
   "outputs": [
    {
     "data": {
      "text/html": [
       "<div>\n",
       "<style scoped>\n",
       "    .dataframe tbody tr th:only-of-type {\n",
       "        vertical-align: middle;\n",
       "    }\n",
       "\n",
       "    .dataframe tbody tr th {\n",
       "        vertical-align: top;\n",
       "    }\n",
       "\n",
       "    .dataframe thead th {\n",
       "        text-align: right;\n",
       "    }\n",
       "</style>\n",
       "<table border=\"1\" class=\"dataframe\">\n",
       "  <thead>\n",
       "    <tr style=\"text-align: right;\">\n",
       "      <th></th>\n",
       "      <th>id</th>\n",
       "      <th>average_cost_for_two</th>\n",
       "      <th>book_url</th>\n",
       "      <th>cuisines</th>\n",
       "      <th>currency</th>\n",
       "      <th>deeplink</th>\n",
       "      <th>events_url</th>\n",
       "      <th>featured_image</th>\n",
       "      <th>has_online_delivery</th>\n",
       "      <th>has_table_booking</th>\n",
       "      <th>...</th>\n",
       "      <th>country_id</th>\n",
       "      <th>latitude</th>\n",
       "      <th>locality</th>\n",
       "      <th>locality_verbose</th>\n",
       "      <th>longitude</th>\n",
       "      <th>zipcode</th>\n",
       "      <th>aggregate_rating</th>\n",
       "      <th>rating_color</th>\n",
       "      <th>rating_text</th>\n",
       "      <th>votes</th>\n",
       "    </tr>\n",
       "  </thead>\n",
       "  <tbody>\n",
       "    <tr>\n",
       "      <th>0</th>\n",
       "      <td>6316125</td>\n",
       "      <td>1000</td>\n",
       "      <td>NaN</td>\n",
       "      <td>Japanese, Ramen</td>\n",
       "      <td>P</td>\n",
       "      <td>zomato://restaurant/6316125</td>\n",
       "      <td>https://www.zomato.com/manila/mendokoro-ramenb...</td>\n",
       "      <td>https://b.zmtcdn.com/data/reviews_photos/971/2...</td>\n",
       "      <td>0</td>\n",
       "      <td>0</td>\n",
       "      <td>...</td>\n",
       "      <td>162</td>\n",
       "      <td>14.560313</td>\n",
       "      <td>Salcedo Village</td>\n",
       "      <td>Salcedo Village, Makati City</td>\n",
       "      <td>121.024638</td>\n",
       "      <td>NaN</td>\n",
       "      <td>4.9</td>\n",
       "      <td>3F7E00</td>\n",
       "      <td>Excellent</td>\n",
       "      <td>1394</td>\n",
       "    </tr>\n",
       "    <tr>\n",
       "      <th>1</th>\n",
       "      <td>18409457</td>\n",
       "      <td>1300</td>\n",
       "      <td>NaN</td>\n",
       "      <td>Korean, Grill, Korean BBQ</td>\n",
       "      <td>P</td>\n",
       "      <td>zomato://restaurant/18409457</td>\n",
       "      <td>https://www.zomato.com/manila/soban-k-town-gri...</td>\n",
       "      <td>https://b.zmtcdn.com/data/res_imagery/18290970...</td>\n",
       "      <td>0</td>\n",
       "      <td>0</td>\n",
       "      <td>...</td>\n",
       "      <td>162</td>\n",
       "      <td>14.552137</td>\n",
       "      <td>Greenbelt 3, San Lorenzo, Makati City</td>\n",
       "      <td>Greenbelt 3, San Lorenzo, Makati City, Makati ...</td>\n",
       "      <td>121.021325</td>\n",
       "      <td>NaN</td>\n",
       "      <td>4.6</td>\n",
       "      <td>3F7E00</td>\n",
       "      <td>Excellent</td>\n",
       "      <td>602</td>\n",
       "    </tr>\n",
       "    <tr>\n",
       "      <th>2</th>\n",
       "      <td>6307689</td>\n",
       "      <td>1600</td>\n",
       "      <td>NaN</td>\n",
       "      <td>American, Filipino</td>\n",
       "      <td>P</td>\n",
       "      <td>zomato://restaurant/6307689</td>\n",
       "      <td>https://www.zomato.com/manila/filling-station-...</td>\n",
       "      <td>https://b.zmtcdn.com/data/pictures/9/6307689/b...</td>\n",
       "      <td>0</td>\n",
       "      <td>0</td>\n",
       "      <td>...</td>\n",
       "      <td>162</td>\n",
       "      <td>14.563144</td>\n",
       "      <td>Poblacion</td>\n",
       "      <td>Poblacion, Makati City</td>\n",
       "      <td>121.029800</td>\n",
       "      <td>1210.0</td>\n",
       "      <td>4.0</td>\n",
       "      <td>5BA829</td>\n",
       "      <td>Very Good</td>\n",
       "      <td>563</td>\n",
       "    </tr>\n",
       "    <tr>\n",
       "      <th>3</th>\n",
       "      <td>18581637</td>\n",
       "      <td>1000</td>\n",
       "      <td>NaN</td>\n",
       "      <td>Korean</td>\n",
       "      <td>P</td>\n",
       "      <td>zomato://restaurant/18581637</td>\n",
       "      <td>https://www.zomato.com/manila/romantic-baboy-t...</td>\n",
       "      <td>https://b.zmtcdn.com/data/reviews_photos/cc1/a...</td>\n",
       "      <td>0</td>\n",
       "      <td>0</td>\n",
       "      <td>...</td>\n",
       "      <td>162</td>\n",
       "      <td>14.633713</td>\n",
       "      <td>Tomas Morato</td>\n",
       "      <td>Tomas Morato, Quezon City</td>\n",
       "      <td>121.035026</td>\n",
       "      <td>NaN</td>\n",
       "      <td>4.0</td>\n",
       "      <td>5BA829</td>\n",
       "      <td>Very Good</td>\n",
       "      <td>413</td>\n",
       "    </tr>\n",
       "    <tr>\n",
       "      <th>4</th>\n",
       "      <td>6315438</td>\n",
       "      <td>3000</td>\n",
       "      <td>NaN</td>\n",
       "      <td>Seafood, American, Mediterranean, Japanese</td>\n",
       "      <td>P</td>\n",
       "      <td>zomato://restaurant/6315438</td>\n",
       "      <td>https://www.zomato.com/manila/niu-by-vikings-b...</td>\n",
       "      <td>https://b.zmtcdn.com/data/pictures/chains/8/63...</td>\n",
       "      <td>0</td>\n",
       "      <td>0</td>\n",
       "      <td>...</td>\n",
       "      <td>162</td>\n",
       "      <td>14.546236</td>\n",
       "      <td>SM Aura Premier, Bonifacio Global City, Taguig...</td>\n",
       "      <td>SM Aura Premier, Bonifacio Global City, Taguig...</td>\n",
       "      <td>121.054365</td>\n",
       "      <td>NaN</td>\n",
       "      <td>4.6</td>\n",
       "      <td>3F7E00</td>\n",
       "      <td>Excellent</td>\n",
       "      <td>960</td>\n",
       "    </tr>\n",
       "    <tr>\n",
       "      <th>...</th>\n",
       "      <td>...</td>\n",
       "      <td>...</td>\n",
       "      <td>...</td>\n",
       "      <td>...</td>\n",
       "      <td>...</td>\n",
       "      <td>...</td>\n",
       "      <td>...</td>\n",
       "      <td>...</td>\n",
       "      <td>...</td>\n",
       "      <td>...</td>\n",
       "      <td>...</td>\n",
       "      <td>...</td>\n",
       "      <td>...</td>\n",
       "      <td>...</td>\n",
       "      <td>...</td>\n",
       "      <td>...</td>\n",
       "      <td>...</td>\n",
       "      <td>...</td>\n",
       "      <td>...</td>\n",
       "      <td>...</td>\n",
       "      <td>...</td>\n",
       "    </tr>\n",
       "    <tr>\n",
       "      <th>6825</th>\n",
       "      <td>18635649</td>\n",
       "      <td>1000</td>\n",
       "      <td>NaN</td>\n",
       "      <td>Deli, Filipino</td>\n",
       "      <td>P</td>\n",
       "      <td>zomato://restaurant/18635649</td>\n",
       "      <td>https://www.zomato.com/manila/trader-juans-fil...</td>\n",
       "      <td>NaN</td>\n",
       "      <td>0</td>\n",
       "      <td>0</td>\n",
       "      <td>...</td>\n",
       "      <td>162</td>\n",
       "      <td>14.422261</td>\n",
       "      <td>Westgate Center, Filinvest City, Mutinlupa City</td>\n",
       "      <td>Westgate Center, Filinvest City, Mutinlupa Cit...</td>\n",
       "      <td>121.033175</td>\n",
       "      <td>NaN</td>\n",
       "      <td>2.9</td>\n",
       "      <td>FFBA00</td>\n",
       "      <td>Average</td>\n",
       "      <td>6</td>\n",
       "    </tr>\n",
       "    <tr>\n",
       "      <th>6826</th>\n",
       "      <td>6318581</td>\n",
       "      <td>400</td>\n",
       "      <td>NaN</td>\n",
       "      <td>Fast Food</td>\n",
       "      <td>P</td>\n",
       "      <td>zomato://restaurant/6318581</td>\n",
       "      <td>https://www.zomato.com/manila/jollibee-north-c...</td>\n",
       "      <td>http://b.zmtcdn.com/data/pictures/chains/0/630...</td>\n",
       "      <td>0</td>\n",
       "      <td>0</td>\n",
       "      <td>...</td>\n",
       "      <td>162</td>\n",
       "      <td>14.756424</td>\n",
       "      <td>Zabarte Town Center, North Caloocan, Caloocan ...</td>\n",
       "      <td>Zabarte Town Center, North Caloocan, Caloocan ...</td>\n",
       "      <td>121.043329</td>\n",
       "      <td>NaN</td>\n",
       "      <td>3.0</td>\n",
       "      <td>CDD614</td>\n",
       "      <td>Average</td>\n",
       "      <td>5</td>\n",
       "    </tr>\n",
       "    <tr>\n",
       "      <th>6827</th>\n",
       "      <td>6318578</td>\n",
       "      <td>450</td>\n",
       "      <td>NaN</td>\n",
       "      <td>Bakery, Filipino</td>\n",
       "      <td>P</td>\n",
       "      <td>zomato://restaurant/6318578</td>\n",
       "      <td>https://www.zomato.com/manila/goldilocks-north...</td>\n",
       "      <td>https://b.zmtcdn.com/data/res_imagery/6300003_...</td>\n",
       "      <td>0</td>\n",
       "      <td>0</td>\n",
       "      <td>...</td>\n",
       "      <td>162</td>\n",
       "      <td>14.756406</td>\n",
       "      <td>Zabarte Town Center, North Caloocan, Caloocan ...</td>\n",
       "      <td>Zabarte Town Center, North Caloocan, Caloocan ...</td>\n",
       "      <td>121.043498</td>\n",
       "      <td>NaN</td>\n",
       "      <td>0.0</td>\n",
       "      <td>CBCBC8</td>\n",
       "      <td>Not rated</td>\n",
       "      <td>1</td>\n",
       "    </tr>\n",
       "    <tr>\n",
       "      <th>6828</th>\n",
       "      <td>6309612</td>\n",
       "      <td>1000</td>\n",
       "      <td>NaN</td>\n",
       "      <td>American, Italian</td>\n",
       "      <td>P</td>\n",
       "      <td>zomato://restaurant/6309612</td>\n",
       "      <td>https://www.zomato.com/manila/red-buffalo-wing...</td>\n",
       "      <td>https://b.zmtcdn.com/data/res_imagery/6309612_...</td>\n",
       "      <td>0</td>\n",
       "      <td>0</td>\n",
       "      <td>...</td>\n",
       "      <td>162</td>\n",
       "      <td>14.610628</td>\n",
       "      <td>Greenhills Town Center, Valencia, Quezon City</td>\n",
       "      <td>Greenhills Town Center, Valencia, Quezon City ...</td>\n",
       "      <td>121.037031</td>\n",
       "      <td>NaN</td>\n",
       "      <td>3.7</td>\n",
       "      <td>9ACD32</td>\n",
       "      <td>Good</td>\n",
       "      <td>96</td>\n",
       "    </tr>\n",
       "    <tr>\n",
       "      <th>6829</th>\n",
       "      <td>6318582</td>\n",
       "      <td>600</td>\n",
       "      <td>NaN</td>\n",
       "      <td>Pizza, Fast Food</td>\n",
       "      <td>P</td>\n",
       "      <td>zomato://restaurant/6318582</td>\n",
       "      <td>https://www.zomato.com/manila/greenwich-north-...</td>\n",
       "      <td>https://b.zmtcdn.com/data/pictures/chains/2/63...</td>\n",
       "      <td>0</td>\n",
       "      <td>0</td>\n",
       "      <td>...</td>\n",
       "      <td>162</td>\n",
       "      <td>14.756382</td>\n",
       "      <td>Zabarte Town Center, North Caloocan, Caloocan ...</td>\n",
       "      <td>Zabarte Town Center, North Caloocan, Caloocan ...</td>\n",
       "      <td>121.043452</td>\n",
       "      <td>NaN</td>\n",
       "      <td>0.0</td>\n",
       "      <td>CBCBC8</td>\n",
       "      <td>Not rated</td>\n",
       "      <td>2</td>\n",
       "    </tr>\n",
       "  </tbody>\n",
       "</table>\n",
       "<p>6830 rows × 35 columns</p>\n",
       "</div>"
      ],
      "text/plain": [
       "            id  average_cost_for_two book_url  \\\n",
       "0      6316125                  1000      NaN   \n",
       "1     18409457                  1300      NaN   \n",
       "2      6307689                  1600      NaN   \n",
       "3     18581637                  1000      NaN   \n",
       "4      6315438                  3000      NaN   \n",
       "...        ...                   ...      ...   \n",
       "6825  18635649                  1000      NaN   \n",
       "6826   6318581                   400      NaN   \n",
       "6827   6318578                   450      NaN   \n",
       "6828   6309612                  1000      NaN   \n",
       "6829   6318582                   600      NaN   \n",
       "\n",
       "                                        cuisines currency  \\\n",
       "0                                Japanese, Ramen        P   \n",
       "1                      Korean, Grill, Korean BBQ        P   \n",
       "2                             American, Filipino        P   \n",
       "3                                         Korean        P   \n",
       "4     Seafood, American, Mediterranean, Japanese        P   \n",
       "...                                          ...      ...   \n",
       "6825                              Deli, Filipino        P   \n",
       "6826                                   Fast Food        P   \n",
       "6827                            Bakery, Filipino        P   \n",
       "6828                           American, Italian        P   \n",
       "6829                            Pizza, Fast Food        P   \n",
       "\n",
       "                          deeplink  \\\n",
       "0      zomato://restaurant/6316125   \n",
       "1     zomato://restaurant/18409457   \n",
       "2      zomato://restaurant/6307689   \n",
       "3     zomato://restaurant/18581637   \n",
       "4      zomato://restaurant/6315438   \n",
       "...                            ...   \n",
       "6825  zomato://restaurant/18635649   \n",
       "6826   zomato://restaurant/6318581   \n",
       "6827   zomato://restaurant/6318578   \n",
       "6828   zomato://restaurant/6309612   \n",
       "6829   zomato://restaurant/6318582   \n",
       "\n",
       "                                             events_url  \\\n",
       "0     https://www.zomato.com/manila/mendokoro-ramenb...   \n",
       "1     https://www.zomato.com/manila/soban-k-town-gri...   \n",
       "2     https://www.zomato.com/manila/filling-station-...   \n",
       "3     https://www.zomato.com/manila/romantic-baboy-t...   \n",
       "4     https://www.zomato.com/manila/niu-by-vikings-b...   \n",
       "...                                                 ...   \n",
       "6825  https://www.zomato.com/manila/trader-juans-fil...   \n",
       "6826  https://www.zomato.com/manila/jollibee-north-c...   \n",
       "6827  https://www.zomato.com/manila/goldilocks-north...   \n",
       "6828  https://www.zomato.com/manila/red-buffalo-wing...   \n",
       "6829  https://www.zomato.com/manila/greenwich-north-...   \n",
       "\n",
       "                                         featured_image  has_online_delivery  \\\n",
       "0     https://b.zmtcdn.com/data/reviews_photos/971/2...                    0   \n",
       "1     https://b.zmtcdn.com/data/res_imagery/18290970...                    0   \n",
       "2     https://b.zmtcdn.com/data/pictures/9/6307689/b...                    0   \n",
       "3     https://b.zmtcdn.com/data/reviews_photos/cc1/a...                    0   \n",
       "4     https://b.zmtcdn.com/data/pictures/chains/8/63...                    0   \n",
       "...                                                 ...                  ...   \n",
       "6825                                                NaN                    0   \n",
       "6826  http://b.zmtcdn.com/data/pictures/chains/0/630...                    0   \n",
       "6827  https://b.zmtcdn.com/data/res_imagery/6300003_...                    0   \n",
       "6828  https://b.zmtcdn.com/data/res_imagery/6309612_...                    0   \n",
       "6829  https://b.zmtcdn.com/data/pictures/chains/2/63...                    0   \n",
       "\n",
       "      has_table_booking  ...  country_id   latitude  \\\n",
       "0                     0  ...         162  14.560313   \n",
       "1                     0  ...         162  14.552137   \n",
       "2                     0  ...         162  14.563144   \n",
       "3                     0  ...         162  14.633713   \n",
       "4                     0  ...         162  14.546236   \n",
       "...                 ...  ...         ...        ...   \n",
       "6825                  0  ...         162  14.422261   \n",
       "6826                  0  ...         162  14.756424   \n",
       "6827                  0  ...         162  14.756406   \n",
       "6828                  0  ...         162  14.610628   \n",
       "6829                  0  ...         162  14.756382   \n",
       "\n",
       "                                               locality  \\\n",
       "0                                       Salcedo Village   \n",
       "1                 Greenbelt 3, San Lorenzo, Makati City   \n",
       "2                                             Poblacion   \n",
       "3                                          Tomas Morato   \n",
       "4     SM Aura Premier, Bonifacio Global City, Taguig...   \n",
       "...                                                 ...   \n",
       "6825    Westgate Center, Filinvest City, Mutinlupa City   \n",
       "6826  Zabarte Town Center, North Caloocan, Caloocan ...   \n",
       "6827  Zabarte Town Center, North Caloocan, Caloocan ...   \n",
       "6828     Greenhills Town Center, Valencia, Quezon City    \n",
       "6829  Zabarte Town Center, North Caloocan, Caloocan ...   \n",
       "\n",
       "                                       locality_verbose   longitude zipcode  \\\n",
       "0                          Salcedo Village, Makati City  121.024638     NaN   \n",
       "1     Greenbelt 3, San Lorenzo, Makati City, Makati ...  121.021325     NaN   \n",
       "2                                Poblacion, Makati City  121.029800  1210.0   \n",
       "3                             Tomas Morato, Quezon City  121.035026     NaN   \n",
       "4     SM Aura Premier, Bonifacio Global City, Taguig...  121.054365     NaN   \n",
       "...                                                 ...         ...     ...   \n",
       "6825  Westgate Center, Filinvest City, Mutinlupa Cit...  121.033175     NaN   \n",
       "6826  Zabarte Town Center, North Caloocan, Caloocan ...  121.043329     NaN   \n",
       "6827  Zabarte Town Center, North Caloocan, Caloocan ...  121.043498     NaN   \n",
       "6828  Greenhills Town Center, Valencia, Quezon City ...  121.037031     NaN   \n",
       "6829  Zabarte Town Center, North Caloocan, Caloocan ...  121.043452     NaN   \n",
       "\n",
       "     aggregate_rating rating_color rating_text  votes  \n",
       "0                 4.9       3F7E00   Excellent   1394  \n",
       "1                 4.6       3F7E00   Excellent    602  \n",
       "2                 4.0       5BA829   Very Good    563  \n",
       "3                 4.0       5BA829   Very Good    413  \n",
       "4                 4.6       3F7E00   Excellent    960  \n",
       "...               ...          ...         ...    ...  \n",
       "6825              2.9       FFBA00     Average      6  \n",
       "6826              3.0       CDD614     Average      5  \n",
       "6827              0.0       CBCBC8   Not rated      1  \n",
       "6828              3.7       9ACD32        Good     96  \n",
       "6829              0.0       CBCBC8   Not rated      2  \n",
       "\n",
       "[6830 rows x 35 columns]"
      ]
     },
     "execution_count": 17,
     "metadata": {},
     "output_type": "execute_result"
    }
   ],
   "source": [
    "# read and store csv data in python object df\n",
    "# from csv to dataframe\n",
    "df1 = pd.read_csv(\"zomato.csv\") # contains the data from zomato.csv (resto information)\n",
    "df2 = pd.read_csv(\"location.csv\") # contains the data from location.csv (location of resto)\n",
    "df3 = pd.read_csv(\"ratings.csv\") # contains the data from ratings.csv (aggregate rating)\n",
    "\n",
    "# merge the files using merge()\n",
    "merged_df = df1.merge(df2, how = \"left\").merge(df3, how = \"left\")\n",
    "# show the merged dataframe containing all info from the three cvs\n",
    "merged_df"
   ]
  },
  {
   "cell_type": "markdown",
   "id": "41fdad56-8141-441f-888c-3b66fadae4dd",
   "metadata": {
    "id": "ddbd0bb1"
   },
   "source": [
    "**References**\n",
    "\n",
    "https://www.youtube.com/watch?v=TPivN7tpdwc&list=PLUaB-1hjhk8GZOuylZqLz-Qt9RIdZZMBE&index=5\n",
    "- introduction to pandas, merging dataframes\n",
    "\n",
    "https://www.w3schools.com/python/pandas/ref_df_merge.asp\n",
    "- contains information on merge()\n",
    "\n",
    "https://drive.google.com/file/d/1fUtKSlW4ZmxsQgRMNFNgaz9FzSpfBI3q/view\n",
    "- lecture on pandas, used mainly to read csv in python"
   ]
  },
  {
   "cell_type": "code",
   "execution_count": 16,
   "id": "b2a86a44",
   "metadata": {
    "id": "b2a86a44"
   },
   "outputs": [],
   "source": [
    "assert (6830, 35)==merged_df.shape\n",
    "\n",
    "cols = ['id', 'address', 'city', 'city_id', 'country_id', 'latitude',\n",
    "       'locality', 'locality_verbose', 'longitude', 'zipcode',\n",
    "       'aggregate_rating', 'rating_color', 'rating_text', 'votes',\n",
    "       'average_cost_for_two', 'book_url', 'cuisines', 'currency', 'deeplink',\n",
    "       'events_url', 'featured_image', 'has_online_delivery',\n",
    "       'has_table_booking', 'include_bogo_offers', 'is_book_form_web_view',\n",
    "       'is_delivering_now', 'is_table_reservation_supported',\n",
    "       'is_zomato_book_res', 'menu_url', 'mezzo_provider', 'name',\n",
    "       'photos_url', 'price_range', 'thumb', 'url']\n",
    "\n",
    "assert sorted(merged_df.columns) == sorted(cols)"
   ]
  },
  {
   "cell_type": "markdown",
   "id": "02223abe",
   "metadata": {
    "id": "02223abe"
   },
   "source": [
    "2. Create a function that returns the average aggregate rating for each city. Expected returned value is a Series datatype which contains name of city as index and average aggregate rating as value. **(2pts)**"
   ]
  },
  {
   "cell_type": "code",
   "execution_count": 21,
   "id": "bd7d8f34",
   "metadata": {
    "id": "bd7d8f34"
   },
   "outputs": [
    {
     "data": {
      "text/plain": [
       "city\n",
       "Caloocan City       1.953509\n",
       "Las Piñas City      2.855738\n",
       "Makati City         3.250512\n",
       "Malabon City        1.558333\n",
       "Mandaluyong City    2.951919\n",
       "Manila              2.842652\n",
       "Marikina City       2.672512\n",
       "Muntinlupa City     2.962682\n",
       "Parañaque City      3.130100\n",
       "Pasay City          3.302075\n",
       "Pasig City          2.916086\n",
       "Pateros City        1.740000\n",
       "Quezon City         2.887946\n",
       "San Juan City       3.098462\n",
       "Tagaytay City       2.959259\n",
       "Taguig City         3.234105\n",
       "Valenzuela City     1.890741\n",
       "Name: aggregate_rating, dtype: float64"
      ]
     },
     "execution_count": 21,
     "metadata": {},
     "output_type": "execute_result"
    }
   ],
   "source": [
    "# create a function that willshow the avg aggregate rating for each city\n",
    "def exercise_2(merged_df):\n",
    "    # calculates the average aggregate rating for each city\n",
    "    # the data is grouped by city then averages the agg rating that corresponds to that city\n",
    "    avg_aggr_rating = merged_df.groupby(\"city\")[\"aggregate_rating\"].mean() \n",
    "    # shows the average rating \n",
    "    return avg_aggr_rating\n",
    "\n",
    "# running the function\n",
    "exercise_2(merged_df)"
   ]
  },
  {
   "cell_type": "markdown",
   "id": "5ed9ab15-127f-4e02-bee4-90fbf1837080",
   "metadata": {
    "id": "bd7d8f34"
   },
   "source": [
    "**References**\n",
    "\n",
    "https://drive.google.com/file/d/1fUtKSlW4ZmxsQgRMNFNgaz9FzSpfBI3q/view\n",
    "- lecture on pandas, specifically on aggregator methods "
   ]
  },
  {
   "cell_type": "code",
   "execution_count": 22,
   "id": "10e5b4c1",
   "metadata": {
    "id": "10e5b4c1"
   },
   "outputs": [],
   "source": [
    "res_series = exercise_2(merged_df)\n",
    "assert True == np.isclose(3.302075, res_series[res_series.index == 'Pasay City'],\n",
    "                          rtol=1e-05, atol=1e-08, equal_nan=False)[0]\n",
    "assert True == np.isclose(1.890741, res_series[res_series.index == 'Valenzuela City'],\n",
    "                          rtol=1e-05, atol=1e-08, equal_nan=False)[0]\n",
    "assert True == np.isclose(1.558333, res_series[res_series.index == 'Malabon City'],\n",
    "                          rtol=1e-05, atol=1e-08, equal_nan=False)[0]"
   ]
  },
  {
   "cell_type": "markdown",
   "id": "5db591ac",
   "metadata": {
    "id": "5db591ac"
   },
   "source": [
    "3. Using the apply function of pandas convert the rating_text to a numeric equivalent. You are to introduce a new column in merged_df called `rating_numeric` which is based on the value from rating_text: **(3pts)**\n",
    "\n",
    "Excellent = 5 <br>\n",
    "Very Good = 4 <br>\n",
    "Good = 3 <br>\n",
    "Average = 2 <br>\n",
    "Poor = 1 <br>\n",
    "Not rated = 0 <br>"
   ]
  },
  {
   "cell_type": "code",
   "execution_count": 52,
   "id": "41293771",
   "metadata": {
    "id": "41293771"
   },
   "outputs": [
    {
     "data": {
      "text/plain": [
       "0       5\n",
       "1       5\n",
       "2       4\n",
       "3       4\n",
       "4       5\n",
       "       ..\n",
       "6825    2\n",
       "6826    2\n",
       "6827    0\n",
       "6828    3\n",
       "6829    0\n",
       "Name: rating_numeric, Length: 6830, dtype: int64"
      ]
     },
     "execution_count": 52,
     "metadata": {},
     "output_type": "execute_result"
    }
   ],
   "source": [
    "# function that converts rating_text to rating_numeric\n",
    "def converter(rating_text):\n",
    "    # dictionary containing the respective value for each key\n",
    "    rating_dictionary = {\n",
    "        \"Excellent\" : 5,\n",
    "        \"Very Good\" : 4,\n",
    "        \"Good\" : 3,\n",
    "        \"Average\" : 2,\n",
    "        \"Poor\" : 1,\n",
    "        \"Not rated\" : 0\n",
    "    }\n",
    "    # the value will be based on the key on rating_text\n",
    "    return rating_dictionary.get(rating_text)\n",
    "\n",
    "# creating a new column containing the values of rating_numeric\n",
    "merged_df[\"rating_numeric\"] = merged_df[\"rating_text\"].apply(converter) # apply function is used to conver rating_text\n",
    "# to show the new column created\n",
    "merged_df[\"rating_numeric\"]      "
   ]
  },
  {
   "cell_type": "markdown",
   "id": "af1266a9-0a29-4d0b-be10-69ce0502713e",
   "metadata": {
    "id": "41293771"
   },
   "source": [
    "**References**\n",
    "\n",
    "https://drive.google.com/file/d/1fUtKSlW4ZmxsQgRMNFNgaz9FzSpfBI3q/view\n",
    "- lecture on pandas\n",
    "\n",
    "https://pandas.pydata.org/docs/reference/api/pandas.DataFrame.apply.html\n",
    "- reference on using the apply() function "
   ]
  },
  {
   "cell_type": "code",
   "execution_count": 51,
   "id": "c62df922",
   "metadata": {
    "id": "c62df922"
   },
   "outputs": [],
   "source": [
    "assert 868 == merged_df[merged_df.rating_numeric == 0].shape[0]\n",
    "assert True == ('rating_numeric' in merged_df.columns)"
   ]
  },
  {
   "cell_type": "markdown",
   "id": "97ec4197",
   "metadata": {
    "id": "97ec4197"
   },
   "source": [
    "4. Create a function which filters the merged dataframe to only contain rows coming in from a specific city. Expected returned value is a dataframe **(2pts)**"
   ]
  },
  {
   "cell_type": "code",
   "execution_count": 58,
   "id": "9773b18e",
   "metadata": {
    "id": "9773b18e"
   },
   "outputs": [],
   "source": [
    "# function that filters the merged_df to show only the rows of a specific city\n",
    "def exercise_4(merged_df, city):\n",
    "    # the df will be filtered based on whether the city input can be found in the dataframe under \"city\"\n",
    "    filter_mdf = merged_df[merged_df[\"city\"] == city]\n",
    "    # show filtered merged_df\n",
    "    return filter_mdf"
   ]
  },
  {
   "cell_type": "code",
   "execution_count": 59,
   "id": "1ca29a81",
   "metadata": {
    "id": "1ca29a81"
   },
   "outputs": [],
   "source": [
    "assert 'Makati City' == exercise_4(merged_df, 'Makati City').city.unique()[0]\n",
    "assert (976, 36) == exercise_4(merged_df, 'Makati City').shape\n",
    "\n",
    "assert 'Mandaluyong City' == exercise_4(merged_df, 'Mandaluyong City').city.unique()[0]\n",
    "assert (443, 36) == exercise_4(merged_df, 'Mandaluyong City').shape\n",
    "\n",
    "assert (0, 36) == exercise_4(merged_df, 'Quezon  City').shape"
   ]
  },
  {
   "cell_type": "markdown",
   "id": "1933f419-cf51-4242-8c81-2f84f358dd7a",
   "metadata": {
    "id": "1ca29a81"
   },
   "source": [
    "**References**\n",
    "\n",
    "https://drive.google.com/file/d/1K7ksJHJ0rGoBsKw0MEoJ0uVQN0-1ZYDD/view\n",
    "- lecture on conditions"
   ]
  },
  {
   "cell_type": "markdown",
   "id": "ca7bf3c1",
   "metadata": {
    "id": "ca7bf3c1"
   },
   "source": [
    "5. Create a function to filter the dataframe to only contain certain columns passed in the function. Expected returned value is a dataframe **(1pt)**"
   ]
  },
  {
   "cell_type": "code",
   "execution_count": 60,
   "id": "59787577",
   "metadata": {
    "id": "59787577"
   },
   "outputs": [],
   "source": [
    "# function that filters the merged_df based on the specific column inputs\n",
    "def exercise_5(merged_df, cols_to_filter):\n",
    "    # merged_df will only contain the specified column\n",
    "    filter_mdf = merged_df[cols_to_filter]\n",
    "    # shows filtered mdf\n",
    "    return filter_mdf"
   ]
  },
  {
   "cell_type": "code",
   "execution_count": 61,
   "id": "da27c054",
   "metadata": {
    "id": "da27c054"
   },
   "outputs": [],
   "source": [
    "cols = ['name', 'cuisines', 'city', 'aggregate_rating']\n",
    "assert sorted(cols) == sorted(exercise_5(merged_df, cols).columns)\n",
    "assert (6830, 4) == exercise_5(merged_df, cols).shape\n",
    "\n",
    "cols = ['average_cost_for_two', 'book_url', 'cuisines', 'currency', 'deeplink',\n",
    "       'events_url', 'featured_image', 'has_online_delivery',\n",
    "       'has_table_booking', 'include_bogo_offers', 'is_book_form_web_view']\n",
    "assert sorted(cols) == sorted(exercise_5(merged_df, cols).columns)\n",
    "assert (6830, 11) == exercise_5(merged_df, cols).shape\n"
   ]
  },
  {
   "cell_type": "markdown",
   "id": "d69c7e2e",
   "metadata": {
    "id": "d69c7e2e"
   },
   "source": [
    "6.  What is the most common restaurant name in the dataset? **(2pts)** Write down your answer and show code used to come up with the answer."
   ]
  },
  {
   "cell_type": "markdown",
   "id": "75fe1d25-05b2-4bad-80f6-c6ba092e2767",
   "metadata": {
    "id": "b447b440"
   },
   "source": [
    "**Starbucks with a count of 99**"
   ]
  },
  {
   "cell_type": "code",
   "execution_count": 106,
   "id": "904431d1-ed1c-4d02-9665-dbf02e43f658",
   "metadata": {
    "id": "cf9cdab1"
   },
   "outputs": [
    {
     "name": "stdout",
     "output_type": "stream",
     "text": [
      "name\n",
      "Starbucks                         99\n",
      "Jollibee                          77\n",
      "McDonald's                        66\n",
      "KFC                               54\n",
      "BonChon Chicken                   49\n",
      "                                  ..\n",
      "HotBox Kitchen                     1\n",
      "Hotel Bar                          1\n",
      "Hotties Gourmet                    1\n",
      "House Manila - Remington Hotel     1\n",
      "¡VENGO!                            1\n",
      "Length: 3286, dtype: int64\n"
     ]
    }
   ],
   "source": [
    "# group the data according to name\n",
    "# get the total count per name\n",
    "# sort the count descending to get the highest count\n",
    "most_common_name = merged_df.groupby(\"name\").size().sort_values(ascending = False)\n",
    "\n",
    "# show result\n",
    "print(most_common_name)"
   ]
  },
  {
   "cell_type": "markdown",
   "id": "7675b4b1",
   "metadata": {
    "id": "7675b4b1"
   },
   "source": [
    "7. Which restaurant has the most expensive average cost for two? **(2pts)** Write down your answer and show code used to come up with the answer."
   ]
  },
  {
   "cell_type": "markdown",
   "id": "3214e05f-f78f-4379-b8ae-593ad5454be8",
   "metadata": {
    "id": "7675b4b1"
   },
   "source": [
    "7. Which restaurant has the most expensive average cost for two? **(2pts)** Write down your answer and show code used to come up with the answer."
   ]
  },
  {
   "cell_type": "markdown",
   "id": "2fd2b0bc-2812-469e-8a1f-47d6e957bd10",
   "metadata": {
    "id": "7675b4b1"
   },
   "source": [
    "**The Tasting Room costing 10 000**"
   ]
  },
  {
   "cell_type": "code",
   "execution_count": 108,
   "id": "b447b440",
   "metadata": {
    "id": "b447b440"
   },
   "outputs": [
    {
     "name": "stdout",
     "output_type": "stream",
     "text": [
      "The Tasting Room\n",
      "10000\n"
     ]
    }
   ],
   "source": [
    "# sort the dataframe by the average cost for two\n",
    "most_expensive_average_cost = merged_df.sort_values(by = \"average_cost_for_two\", ascending=False).iloc[0] # ascending = false to get the highest value\n",
    "\n",
    "# store the name of resto with the most expensive cost\n",
    "restaurant_name = most_expensive_average_cost[\"name\"]\n",
    "# store the value of the most expensive resto\n",
    "average_cost = most_expensive_average_cost[\"average_cost_for_two\"]\n",
    "\n",
    "# show the results\n",
    "print(restaurant_name)\n",
    "print(average_cost)"
   ]
  },
  {
   "cell_type": "markdown",
   "id": "af873fb7",
   "metadata": {
    "id": "af873fb7"
   },
   "source": [
    "8. How many restaurants do not have a zipcode? **(1pt)** Write down your answer and show code used to come up with the answer."
   ]
  },
  {
   "cell_type": "markdown",
   "id": "29a5e65d-80db-43fc-94b5-f67560e5df2d",
   "metadata": {
    "id": "af873fb7"
   },
   "source": [
    "**6,713 Restaurants**"
   ]
  },
  {
   "cell_type": "code",
   "execution_count": 107,
   "id": "43f1234a",
   "metadata": {
    "id": "43f1234a"
   },
   "outputs": [
    {
     "name": "stdout",
     "output_type": "stream",
     "text": [
      "6713\n"
     ]
    }
   ],
   "source": [
    "# get the sum with NA values in zipcode \n",
    "num_no_zipcode = merged_df[\"zipcode\"].isna().sum()\n",
    "\n",
    "# show results\n",
    "print(num_no_zipcode)"
   ]
  },
  {
   "cell_type": "markdown",
   "id": "9347ac03",
   "metadata": {
    "id": "9347ac03"
   },
   "source": [
    "9. How many restaurants in the dataset allow online delivery? **(1pt)** Write down your answer and show code used to come up with the answer."
   ]
  },
  {
   "cell_type": "markdown",
   "id": "028d5ce0-1841-41d1-a124-f6dabc79ad4a",
   "metadata": {
    "id": "9347ac03"
   },
   "source": [
    "**0 Restaurants**"
   ]
  },
  {
   "cell_type": "code",
   "execution_count": 113,
   "id": "24b62212",
   "metadata": {
    "id": "24b62212"
   },
   "outputs": [
    {
     "name": "stdout",
     "output_type": "stream",
     "text": [
      "0\n"
     ]
    }
   ],
   "source": [
    "resto_w_oldeliv = merged_df[merged_df[\"has_online_delivery\"] == 1].shape[0]\n",
    "\n",
    "print(resto_w_oldeliv)\n"
   ]
  },
  {
   "cell_type": "markdown",
   "id": "7f2c7aa3",
   "metadata": {
    "id": "7f2c7aa3"
   },
   "source": [
    "10. Which locatlity has more expensive food? Poblacion or Salcedo Village? **(3pts)** Write down your answer and show code used to come up with the answer."
   ]
  },
  {
   "cell_type": "markdown",
   "id": "8a0229bf-0218-4880-9ee8-4fac4713cf01",
   "metadata": {},
   "source": [
    "**Salcedo Village has more expensive food with an average cost of 989.10**"
   ]
  },
  {
   "cell_type": "code",
   "execution_count": 114,
   "id": "04d69912-63e9-4394-8b27-8481b30dc154",
   "metadata": {},
   "outputs": [
    {
     "name": "stdout",
     "output_type": "stream",
     "text": [
      "Salcedo Village\n",
      "989.1025641025641\n"
     ]
    }
   ],
   "source": [
    "# sort the costs for Poblacion and Salcedo Village\n",
    "poblacion_food_cost = merged_df[merged_df[\"locality\"] == \"Poblacion\"][\"average_cost_for_two\"].mean()\n",
    "salcedo_food_cost = merged_df[merged_df[\"locality\"] == \"Salcedo Village\"][\"average_cost_for_two\"].mean()\n",
    "\n",
    "# set the conditions \n",
    "if poblacion_food_cost > salcedo_food_cost: # shows that food in poblacion is more expensive\n",
    "    more_expensive_food = 'Poblacion'\n",
    "    more_expensive_food_cost = poblacion_food_cost\n",
    "    print(more_expensive_food)\n",
    "    print(more_expensive_food_cost)\n",
    "else: # shows that salcedo village is more expensive\n",
    "    more_expensive_food = 'Salcedo Village'\n",
    "    more_expensive_food_cost = salcedo_food_cost\n",
    "    print(more_expensive_food)\n",
    "    print(more_expensive_food_cost)"
   ]
  }
 ],
 "metadata": {
  "colab": {
   "provenance": []
  },
  "kernelspec": {
   "display_name": "Python 3 (ipykernel)",
   "language": "python",
   "name": "python3"
  },
  "language_info": {
   "codemirror_mode": {
    "name": "ipython",
    "version": 3
   },
   "file_extension": ".py",
   "mimetype": "text/x-python",
   "name": "python",
   "nbconvert_exporter": "python",
   "pygments_lexer": "ipython3",
   "version": "3.8.18"
  }
 },
 "nbformat": 4,
 "nbformat_minor": 5
}
